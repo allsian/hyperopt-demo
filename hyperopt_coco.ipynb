{
 "cells": [
  {
   "cell_type": "markdown",
   "metadata": {},
   "source": [
    "# Hyperopt integration prototype"
   ]
  },
  {
   "cell_type": "code",
   "execution_count": null,
   "metadata": {},
   "outputs": [],
   "source": [
    "from hyperopt import fmin, tpe, hp, STATUS_OK, Trials"
   ]
  },
  {
   "cell_type": "markdown",
   "metadata": {},
   "source": [
    "### Config file config"
   ]
  },
  {
   "cell_type": "code",
   "execution_count": null,
   "metadata": {},
   "outputs": [],
   "source": [
    "RAW_CONFIG_FILE_NAME = \"faster_rcnn_resnet101_pets.config\"\n",
    "CONFIG_FILE_NAME = \"tuning.config\"\n",
    "\n",
    "def change_config(params):\n",
    "    with open(RAW_CONFIG_FILE_NAME, \"r\") as f:\n",
    "        raw_config = f.read()\n",
    "    config = raw_config.format(**params)\n",
    "    with open(CONFIG_FILE_NAME, \"w\") as f:\n",
    "        f.write(config)"
   ]
  },
  {
   "cell_type": "markdown",
   "metadata": {},
   "source": [
    "### Start tensorflow"
   ]
  },
  {
   "cell_type": "code",
   "execution_count": null,
   "metadata": {},
   "outputs": [],
   "source": [
    "TS_SCRIPT = \"object_detection/model_main.py\"\n",
    "PIPELINE_CONFIG_PATH = \"/home/dennis/ts-train/data/faster_rcnn_resnet101_pets.config\"\n",
    "MODEL_DIR = \"/home/dennis/ts-train/data\"\n",
    "NUM_TRAIN_STEPS = 500000\n",
    "NUM_EVAL_STEPS = 2000\n",
    "\n",
    "\n",
    "from subprocess import run\n",
    "def run_ts(params):\n",
    "    try:\n",
    "        run(['python3',\n",
    "             TS_SCRIPT,\n",
    "             '--pipeline_config_path=\"{path}\"'.format(path=PIPELINE_CONFIG_PATH),\n",
    "             '--model_dir=\"{path}\"'.format(path=MODEL_DIR),\n",
    "             '--num_train_steps={num}'.format(num=NUM_TRAIN_STEPS),\n",
    "             '--num_eval_steps={num}'.format(num=NUM_EVAL_STEPS)] , check=True)\n",
    "    except CalledProcessError as e:\n",
    "        print(\"Error happened when running tensorflow:\")\n",
    "        print(str(e.output))"
   ]
  },
  {
   "cell_type": "markdown",
   "metadata": {},
   "source": [
    "### Test model score"
   ]
  },
  {
   "cell_type": "code",
   "execution_count": null,
   "metadata": {},
   "outputs": [],
   "source": []
  },
  {
   "cell_type": "markdown",
   "metadata": {},
   "source": [
    "### Hyperopt config and main program"
   ]
  },
  {
   "cell_type": "code",
   "execution_count": null,
   "metadata": {},
   "outputs": [],
   "source": [
    "# define search space\n",
    "space4knn = {\n",
    "    'initial_learning_rate': hp.uniform('initial_learning_rate', 0.000001, 0.0001)\n",
    "}\n",
    "\n",
    "# objective function\n",
    "def ob_f(params):\n",
    "    change_config(params)\n",
    "    run_ts()\n",
    "    return {'loss': -test_score(), 'status': STATUS_OK}\n",
    "        \n",
    "\n",
    "# create trial instance, which can store info during search\n",
    "trials = Trials()\n",
    "\n",
    "# run fmin to find the optimal hyperparameter\n",
    "best = fmin(ob_f, space4knn, algo=tpe.suggest, max_evals=100, trials=trials)\n",
    "print(\"best: \")\n",
    "print(best)"
   ]
  }
 ],
 "metadata": {
  "kernelspec": {
   "display_name": "Python 3",
   "language": "python",
   "name": "python3"
  },
  "language_info": {
   "codemirror_mode": {
    "name": "ipython",
    "version": 3
   },
   "file_extension": ".py",
   "mimetype": "text/x-python",
   "name": "python",
   "nbconvert_exporter": "python",
   "pygments_lexer": "ipython3",
   "version": "3.5.2"
  }
 },
 "nbformat": 4,
 "nbformat_minor": 2
}
